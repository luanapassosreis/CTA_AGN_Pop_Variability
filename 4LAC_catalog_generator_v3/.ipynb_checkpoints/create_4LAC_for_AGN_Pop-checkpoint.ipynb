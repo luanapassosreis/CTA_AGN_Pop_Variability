{
 "cells": [
  {
   "cell_type": "markdown",
   "id": "5699fba0",
   "metadata": {},
   "source": [
    "## Creating 4LAC for AGN Pop - version 3"
   ]
  },
  {
   "cell_type": "code",
   "execution_count": 1,
   "id": "302855be",
   "metadata": {},
   "outputs": [],
   "source": [
    "from astropy.io import fits\n",
    "import numpy as np\n",
    "from astropy.table import QTable, Table\n",
    "import astropy.units as u\n",
    "from astropy.io import ascii"
   ]
  },
  {
   "cell_type": "markdown",
   "id": "e4d04a16",
   "metadata": {},
   "source": [
    "First set the paths of the catalog files. Note here I'm using the DR2 catalogs:"
   ]
  },
  {
   "cell_type": "code",
   "execution_count": 2,
   "id": "e127ec83",
   "metadata": {},
   "outputs": [],
   "source": [
    "path_4fgl_dr3_catalog = 'input_catalogs/gll_psc_v31.fit'\n",
    "path_4lac_low_gal_lat = 'input_catalogs/table-4LAC-DR3-l.fits'\n",
    "path_4lac_high_gal_lat = 'input_catalogs/table-4LAC-DR3-h.fits'\n",
    "# Paolo Goldoni's catalog (revised 4LAC redshifts) version 2: https://zenodo.org/record/5512660#.YVcoKHuxXRY \n",
    "path_goldoni_catalog = 'input_catalogs/4LAC_newz_AGNPop_Oct2023.fits'"
   ]
  },
  {
   "cell_type": "code",
   "execution_count": 3,
   "id": "a1571f9d",
   "metadata": {},
   "outputs": [],
   "source": [
    "def read_4fgl_dr3():\n",
    "    hdulist = fits.open(path_4fgl_dr3_catalog)\n",
    "    ptSrcCat = hdulist[1].data\n",
    "    for i, name in enumerate(ptSrcCat['Source_Name']):\n",
    "        name = name.replace(\"4FGL \", \"\")\n",
    "        name = name.replace(\" \", \"\")\n",
    "        if name.endswith('c'):\n",
    "            name = name.replace('c', '')\n",
    "        ptSrcCat['Source_Name'][i] = name\n",
    "    return ptSrcCat\n",
    "\n",
    "def read_4lac_catalog_names(filename):\n",
    "    hdulist = fits.open(filename)\n",
    "    ptSrcCat = hdulist[1].data\n",
    "    names = ptSrcCat['Source_Name']\n",
    "    sed_class = ptSrcCat['SED_class']\n",
    "    srcclass = ptSrcCat['CLASS']\n",
    "    redshifts = ptSrcCat['Redshift']\n",
    "    for i, name in enumerate(names):\n",
    "        name = name.replace(\"4FGL \", \"\")\n",
    "        name = name.replace(\" \", \"\")\n",
    "        names[i] = name.replace('c', '')\n",
    "    return QTable([names, redshifts, srcclass, sed_class], names=('Source_Name', 'Redshift', 'CLASS', 'SED_class'))\n",
    "\n",
    "def read_goldoni_catalog():\n",
    "    hdulist = fits.open(path_goldoni_catalog)\n",
    "    goldoni = hdulist[1].data\n",
    "    names = goldoni['4FGL name']\n",
    "    for i, name in enumerate(names):\n",
    "        names[i] = name.replace(\"4FGL \",\"\")\n",
    "        if \"J0947.1-25\" in name:\n",
    "            names[i] = \"J0947.1-2541\"\n",
    "    goldoni['4FGL name'] = names\n",
    "    return goldoni\n",
    "\n",
    "def merge_4lac_and_4fgl():\n",
    "    four_fgl = read_4fgl_dr3()\n",
    "    four_lac_l = read_4lac_catalog_names(path_4lac_low_gal_lat)\n",
    "    four_lac_h = read_4lac_catalog_names(path_4lac_high_gal_lat)\n",
    "    print(\"Length of the 4fgl catalog: {}\".format(len(four_fgl)))\n",
    "    print(\"Length of the 4lac catalog: {}\".format(len(four_lac_l) + len(four_lac_h)))\n",
    "\n",
    "    mask_4lac = np.zeros(np.shape(four_fgl['Source_Name']), dtype=bool)\n",
    "    # mask_4lac = mask_4lac*False\n",
    "    for i, name in enumerate(four_fgl['Source_Name']):\n",
    "        if name in four_lac_l['Source_Name']:\n",
    "            mask_4lac[i] = True\n",
    "        elif name in four_lac_h['Source_Name']:\n",
    "            mask_4lac[i] = True\n",
    "    lac_fgl_crosscatalog = QTable(four_fgl[mask_4lac])\n",
    "\n",
    "    print(\"Total number of 4LAC entries found in the 4FGL: {}\".format(len(lac_fgl_crosscatalog)))\n",
    "    print(\"Total number of 4LAC entries: {}\".format(len(four_lac_l)+len(four_lac_h)))\n",
    "    \n",
    "    # Create new column in the 4fgl\n",
    "    lac_fgl_crosscatalog['Redshift'] = -1.\n",
    "    redshifts_added = 0\n",
    "    pos_redshifts_added = 0\n",
    "    for i, name in enumerate(lac_fgl_crosscatalog['Source_Name']):\n",
    "        if name in four_lac_l['Source_Name']:\n",
    "            lac_fgl_crosscatalog['Redshift'][i] = four_lac_l['Redshift'][four_lac_l['Source_Name'] == name]\n",
    "            redshifts_added += 1\n",
    "            if four_lac_l['Redshift'][four_lac_l['Source_Name'] == name] > 0:\n",
    "                pos_redshifts_added += 1\n",
    "        elif name in four_lac_h['Source_Name']:\n",
    "            lac_fgl_crosscatalog['Redshift'][i] = four_lac_h['Redshift'][four_lac_h['Source_Name'] == name]\n",
    "            redshifts_added += 1\n",
    "            if four_lac_h['Redshift'][four_lac_h['Source_Name'] == name] > 0:\n",
    "                pos_redshifts_added += 1\n",
    "        else:\n",
    "            print(\"This source did not appear in neither of the 4LAC catalogs...\")\n",
    "    print(\"Added a total of {} redshifts. {} had positive values.\".format(redshifts_added, pos_redshifts_added))\n",
    "    return lac_fgl_crosscatalog\n",
    "\n",
    "def add_class_and_sedclass_to_merged_4fgl_and_4lac():\n",
    "    catalog = merge_4lac_and_4fgl()\n",
    "    four_lac_l = read_4lac_catalog_names(path_4lac_low_gal_lat)\n",
    "    four_lac_h = read_4lac_catalog_names(path_4lac_high_gal_lat)\n",
    "\n",
    "    srcclass = []\n",
    "    sed_class = []\n",
    "    for source_name in catalog['Source_Name']:\n",
    "        if source_name in four_lac_l['Source_Name']:\n",
    "            srcclass.append(four_lac_l['CLASS'][four_lac_l['Source_Name'] == source_name][0])\n",
    "            sed_class.append(four_lac_l['SED_class'][four_lac_l['Source_Name'] == source_name][0])\n",
    "        elif source_name in four_lac_h['Source_Name']:\n",
    "            srcclass.append(four_lac_h['CLASS'][four_lac_h['Source_Name'] == source_name][0])\n",
    "            sed_class.append(four_lac_h['SED_class'][four_lac_h['Source_Name'] == source_name][0])\n",
    "    catalog['CLASS'] = srcclass\n",
    "    catalog['SED_class'] = sed_class\n",
    "    return catalog\n",
    "    \n",
    "def goldoni_revised_4lac():\n",
    "    catalog = add_class_and_sedclass_to_merged_4fgl_and_4lac()\n",
    "    goldoni = read_goldoni_catalog()\n",
    "    # Create some variables to store statistics:\n",
    "    valid_redshifts = 0\n",
    "    removed_valid_redshift = 0\n",
    "    added_valid_redshift = 0\n",
    "    updated_value = 0\n",
    "    for i, name in enumerate(catalog['Source_Name']):\n",
    "        if name in goldoni['4FGL name']:\n",
    "#             goldoni_redshift = goldoni['Redshift'][goldoni['4FGL name'] == name][0]\n",
    "            goldoni_redshift = goldoni['Redshift_corr'][goldoni['4FGL name'] == name][0]\n",
    "            #if \"{:2.3f}\".format(catalog['Redshift'][i]) == \"{:2.6f}\".format(goldoni_redshift):\n",
    "            #print(goldoni_redshift,catalog['Redshift'][i])\n",
    "            if np.abs(goldoni_redshift-catalog['Redshift'][i])<1e-3:\n",
    "            #if \"{:2.3f}\".format(catalog['Redshift'][i]) == \"{:2.3f}\".format(goldoni_redshift):\n",
    "                valid_redshifts += 1\n",
    "            elif catalog['Redshift'][i] > 0. and goldoni_redshift > 0.:\n",
    "                updated_value += 1\n",
    "            elif catalog['Redshift'][i] < 0. and goldoni_redshift > 0.:\n",
    "                added_valid_redshift += 1\n",
    "            elif catalog['Redshift'][i] > 0. and goldoni_redshift < 0.:\n",
    "                removed_valid_redshift += 1\n",
    "            catalog['Redshift'][i] = \"{:2.6f}\".format(goldoni_redshift)\n",
    "        else:\n",
    "            catalog['Redshift'][i] = \"{:2.6f}\".format(catalog['Redshift'][i])\n",
    "#         else:\n",
    "#             print(\"{} in P. Goldoni catalog, but not within 4LAC.\".format(name))\n",
    "    print(\" -- From Paolo's catalog -- \")\n",
    "    print(\"A total of {} redshifts were correct within 4LAC\".format(valid_redshifts))\n",
    "    print(\"Removed a total of {} redshifts from 4LAC\".format(removed_valid_redshift))\n",
    "    print(\"Added a total of {} redshifts to 4LAC\".format(added_valid_redshift))\n",
    "    print(\"Updated a total of {} redshifts of 4LAC\".format(updated_value))\n",
    "    return catalog\n",
    "\n",
    "def convert_PLSuperExpCutoff_entries_to_LogParabola(catalog):\n",
    "    for i, entry in enumerate(catalog):\n",
    "        if entry['SpectrumType'] == 'PLSuperExpCutoff ':\n",
    "            catalog['SpectrumType'][i] = 'LogParabola      '\n",
    "    return catalog\n",
    "    \n",
    "\n",
    "def create_agn_pop_shared_4lac_catalog():\n",
    "    catalog = goldoni_revised_4lac()\n",
    "    keep_columns = ['Source_Name', 'RAJ2000', 'DEJ2000', 'Redshift', 'SpectrumType', 'Pivot_Energy', \n",
    "                    'PL_Flux_Density', 'PL_Index', 'LP_Flux_Density', 'LP_Index', 'LP_beta', 'CLASS', 'SED_class', \n",
    "                    'Variability_Index', 'Frac_Variability', 'Unc_Frac_Variability', 'Flux1000', 'Unc_Flux1000']\n",
    "#                     'Flux_History', 'Unc_Flux_History']\n",
    "    new_catalog = QTable()\n",
    "    for column in keep_columns:\n",
    "        new_catalog[column] = catalog[column]\n",
    "    final_catalog = convert_PLSuperExpCutoff_entries_to_LogParabola(catalog[keep_columns])\n",
    "    return final_catalog\n"
   ]
  },
  {
   "cell_type": "markdown",
   "id": "91d0946c",
   "metadata": {},
   "source": [
    "Generate the catalog and store it in a couple of different formats:"
   ]
  },
  {
   "cell_type": "code",
   "execution_count": 4,
   "id": "5f212767",
   "metadata": {},
   "outputs": [
    {
     "name": "stdout",
     "output_type": "stream",
     "text": [
      "Length of the 4fgl catalog: 6659\n",
      "Length of the 4lac catalog: 3814\n",
      "Total number of 4LAC entries found in the 4FGL: 3814\n",
      "Total number of 4LAC entries: 3814\n",
      "Added a total of 3814 redshifts. 1874 had positive values.\n",
      " -- From Paolo's catalog -- \n",
      "A total of 204 redshifts were correct within 4LAC\n",
      "Removed a total of 94 redshifts from 4LAC\n",
      "Added a total of 31 redshifts to 4LAC\n",
      "Updated a total of 29 redshifts of 4LAC\n"
     ]
    }
   ],
   "source": [
    "agn_pop_catalog = create_agn_pop_shared_4lac_catalog()\n",
    "ascii.write(agn_pop_catalog, 'resulting_catalogs/agn_pop_4lac_dr3.dat', overwrite=True)  \n",
    "agn_pop_catalog.write('resulting_catalogs/agn_pop_4lac_dr3.ecsv', overwrite=True)  \n",
    "agn_pop_catalog.write('resulting_catalogs/agn_pop_4lac_dr3.fits', overwrite=True)  "
   ]
  },
  {
   "cell_type": "markdown",
   "id": "a8b01193",
   "metadata": {},
   "source": [
    "Only selecting those sources with a valid redshift:"
   ]
  },
  {
   "cell_type": "code",
   "execution_count": 5,
   "id": "370c9160",
   "metadata": {},
   "outputs": [],
   "source": [
    "sources_with_redshift = agn_pop_catalog[agn_pop_catalog['Redshift'] >= 0.]\n",
    "ascii.write(sources_with_redshift, 'resulting_catalogs/agn_pop_4lac_dr3_with_z.dat', overwrite=True)  \n",
    "sources_with_redshift.write('resulting_catalogs/agn_pop_4lac_dr3_with_z.ecsv', overwrite=True)  \n",
    "sources_with_redshift.write('resulting_catalogs/agn_pop_4lac_dr3_with_z.fits', overwrite=True)  "
   ]
  },
  {
   "cell_type": "code",
   "execution_count": 6,
   "id": "0dbe4563",
   "metadata": {},
   "outputs": [],
   "source": [
    "sources_with_redshift.sort(\"PL_Flux_Density\")"
   ]
  },
  {
   "cell_type": "code",
   "execution_count": 7,
   "id": "afd08d61",
   "metadata": {},
   "outputs": [
    {
     "data": {
      "text/plain": [
       "1811"
      ]
     },
     "execution_count": 7,
     "metadata": {},
     "output_type": "execute_result"
    }
   ],
   "source": [
    "len(sources_with_redshift)"
   ]
  },
  {
   "cell_type": "code",
   "execution_count": 8,
   "id": "a07a7bc5",
   "metadata": {},
   "outputs": [
    {
     "data": {
      "text/html": [
       "<div><i>QTable length=1811</i>\n",
       "<table id=\"table140507449263632\" class=\"table-striped table-bordered table-condensed\">\n",
       "<thead><tr><th>Source_Name</th><th>RAJ2000</th><th>DEJ2000</th><th>Redshift</th><th>SpectrumType</th><th>Pivot_Energy</th><th>PL_Flux_Density</th><th>PL_Index</th><th>LP_Flux_Density</th><th>LP_Index</th><th>LP_beta</th><th>CLASS</th><th>SED_class</th><th>Variability_Index</th><th>Frac_Variability</th><th>Unc_Frac_Variability</th><th>Flux1000</th><th>Unc_Flux1000</th></tr></thead>\n",
       "<thead><tr><th>str18</th><th>float32</th><th>float32</th><th>float64</th><th>str17</th><th>float32</th><th>float32</th><th>float32</th><th>float32</th><th>float32</th><th>float32</th><th>str5</th><th>str3</th><th>float32</th><th>float32</th><th>float32</th><th>float32</th><th>float32</th></tr></thead>\n",
       "<tr><td>J2049.7-0036</td><td>312.4456</td><td>-0.616</td><td>0.25</td><td>PowerLaw</td><td>27414.951</td><td>1.5025078e-16</td><td>1.5459844</td><td>1.1948478e-16</td><td>1.5027565</td><td>-0.074055366</td><td>bll</td><td></td><td>11.132641</td><td>0.0</td><td>10.0</td><td>4.2278694e-11</td><td>2.8191987e-11</td></tr>\n",
       "<tr><td>J0854.0+2753</td><td>133.5155</td><td>27.884</td><td>0.494</td><td>PowerLaw</td><td>21657.176</td><td>2.0061331e-16</td><td>1.4452856</td><td>3.4816347e-16</td><td>0.44803974</td><td>0.8518391</td><td>bll</td><td>ISP</td><td>15.999075</td><td>0.0</td><td>10.0</td><td>3.343894e-11</td><td>1.6875893e-11</td></tr>\n",
       "<tr><td>J0843.1+5034</td><td>130.7877</td><td>50.5741</td><td>0.439228</td><td>PowerLaw</td><td>16281.117</td><td>2.5256283e-16</td><td>1.5676596</td><td>4.2920565e-16</td><td>0.41477</td><td>0.92254114</td><td>bll</td><td>ISP</td><td>12.82761</td><td>0.0</td><td>10.0</td><td>3.271807e-11</td><td>1.651096e-11</td></tr>\n",
       "<tr><td>J0350.0+0640</td><td>57.5043</td><td>6.6754</td><td>0.273</td><td>PowerLaw</td><td>23084.377</td><td>3.066681e-16</td><td>1.4946463</td><td>4.2683192e-16</td><td>1.3619263</td><td>0.19991502</td><td>bcu</td><td></td><td>12.954952</td><td>0.0</td><td>10.0</td><td>6.068869e-11</td><td>2.7381084e-11</td></tr>\n",
       "<tr><td>J0331.8-7040</td><td>52.969</td><td>-70.6697</td><td>0.277</td><td>LogParabola</td><td>19173.797</td><td>3.31714e-16</td><td>1.6244115</td><td>6.9445145e-16</td><td>0.9360819</td><td>0.90198624</td><td>bll</td><td>HSP</td><td>14.705848</td><td>0.0</td><td>10.0</td><td>2.450411e-11</td><td>7.535786e-12</td></tr>\n",
       "<tr><td>J1130.5-3137</td><td>172.6499</td><td>-31.6219</td><td>0.150728</td><td>PowerLaw</td><td>20277.48</td><td>3.3305304e-16</td><td>1.5072083</td><td>3.4974859e-16</td><td>1.4859275</td><td>0.019613769</td><td>bll</td><td>HSP</td><td>12.132727</td><td>0.0</td><td>10.0</td><td>5.534836e-11</td><td>2.3528918e-11</td></tr>\n",
       "<tr><td>...</td><td>...</td><td>...</td><td>...</td><td>...</td><td>...</td><td>...</td><td>...</td><td>...</td><td>...</td><td>...</td><td>...</td><td>...</td><td>...</td><td>...</td><td>...</td><td>...</td><td>...</td></tr>\n",
       "<tr><td>J1522.1+3144</td><td>230.5454</td><td>31.7395</td><td>1.489</td><td>LogParabola</td><td>456.00125</td><td>8.9110004e-11</td><td>2.402245</td><td>9.728963e-11</td><td>2.3342924</td><td>0.07812083</td><td>fsrq</td><td>LSP</td><td>6841.0913</td><td>0.6339789</td><td>0.13539362</td><td>9.5542925e-09</td><td>1.3019524e-10</td></tr>\n",
       "<tr><td>J1504.4+1029</td><td>226.1033</td><td>10.4978</td><td>1.839</td><td>LogParabola</td><td>518.219</td><td>1.0277302e-10</td><td>2.246488</td><td>1.13776655e-10</td><td>2.1219308</td><td>0.10057087</td><td>FSRQ</td><td>LSP</td><td>13923.587</td><td>0.8978677</td><td>0.19155036</td><td>1.9457499e-08</td><td>2.0496335e-10</td></tr>\n",
       "<tr><td>J0403.9-3605</td><td>60.975</td><td>-36.087</td><td>1.417</td><td>LogParabola</td><td>335.96643</td><td>1.1604972e-10</td><td>2.5280633</td><td>1.3029658e-10</td><td>2.38066</td><td>0.1411098</td><td>FSRQ</td><td>LSP</td><td>6801.102</td><td>0.87428653</td><td>0.18665947</td><td>4.482272e-09</td><td>9.205015e-11</td></tr>\n",
       "<tr><td>J1833.6-2103</td><td>278.4101</td><td>-21.0574</td><td>2.507</td><td>LogParabola</td><td>629.90094</td><td>1.2871261e-10</td><td>2.48788</td><td>1.4677841e-10</td><td>2.3814874</td><td>0.12858963</td><td>FSRQ</td><td>LSP</td><td>39822.453</td><td>1.4218992</td><td>0.3032021</td><td>2.8880303e-08</td><td>2.928293e-10</td></tr>\n",
       "<tr><td>J2253.9+1609</td><td>343.4963</td><td>16.1506</td><td>0.859</td><td>LogParabola</td><td>891.9072</td><td>1.3022523e-10</td><td>2.3908482</td><td>1.514771e-10</td><td>2.4260006</td><td>0.1075784</td><td>FSRQ</td><td>LSP</td><td>77426.66</td><td>0.96451724</td><td>0.20566168</td><td>7.406493e-08</td><td>4.4924803e-10</td></tr>\n",
       "<tr><td>J1224.9+2122</td><td>186.2277</td><td>21.3814</td><td>0.434</td><td>LogParabola</td><td>410.37454</td><td>1.5033258e-10</td><td>2.3360982</td><td>1.5773076e-10</td><td>2.2710254</td><td>0.048976526</td><td>FSRQ</td><td>LSP</td><td>25039.39</td><td>1.266786</td><td>0.27016875</td><td>1.4090083e-08</td><td>1.6693814e-10</td></tr>\n",
       "<tr><td>J1229.0+0202</td><td>187.2675</td><td>2.0454</td><td>0.158</td><td>LogParabola</td><td>323.07904</td><td>1.9536421e-10</td><td>2.6952662</td><td>2.1263696e-10</td><td>2.6132238</td><td>0.0953611</td><td>FSRQ</td><td>LSP</td><td>7997.602</td><td>1.0389191</td><td>0.22171772</td><td>5.1126516e-09</td><td>1.0977286e-10</td></tr>\n",
       "</table></div>"
      ],
      "text/plain": [
       "<QTable length=1811>\n",
       "Source_Name  RAJ2000  DEJ2000  ...    Flux1000    Unc_Flux1000\n",
       "   str18     float32  float32  ...    float32       float32   \n",
       "------------ -------- -------- ... ------------- -------------\n",
       "J2049.7-0036 312.4456   -0.616 ... 4.2278694e-11 2.8191987e-11\n",
       "J0854.0+2753 133.5155   27.884 ...  3.343894e-11 1.6875893e-11\n",
       "J0843.1+5034 130.7877  50.5741 ...  3.271807e-11  1.651096e-11\n",
       "J0350.0+0640  57.5043   6.6754 ...  6.068869e-11 2.7381084e-11\n",
       "J0331.8-7040   52.969 -70.6697 ...  2.450411e-11  7.535786e-12\n",
       "J1130.5-3137 172.6499 -31.6219 ...  5.534836e-11 2.3528918e-11\n",
       "         ...      ...      ... ...           ...           ...\n",
       "J1522.1+3144 230.5454  31.7395 ... 9.5542925e-09 1.3019524e-10\n",
       "J1504.4+1029 226.1033  10.4978 ... 1.9457499e-08 2.0496335e-10\n",
       "J0403.9-3605   60.975  -36.087 ...  4.482272e-09  9.205015e-11\n",
       "J1833.6-2103 278.4101 -21.0574 ... 2.8880303e-08  2.928293e-10\n",
       "J2253.9+1609 343.4963  16.1506 ...  7.406493e-08 4.4924803e-10\n",
       "J1224.9+2122 186.2277  21.3814 ... 1.4090083e-08 1.6693814e-10\n",
       "J1229.0+0202 187.2675   2.0454 ... 5.1126516e-09 1.0977286e-10"
      ]
     },
     "execution_count": 8,
     "metadata": {},
     "output_type": "execute_result"
    }
   ],
   "source": [
    "sources_with_redshift"
   ]
  },
  {
   "cell_type": "code",
   "execution_count": 9,
   "id": "29dab020",
   "metadata": {},
   "outputs": [
    {
     "data": {
      "text/html": [
       "<div><i>QTable length=231</i>\n",
       "<table id=\"table140507449280736\" class=\"table-striped table-bordered table-condensed\">\n",
       "<thead><tr><th>Source_Name</th><th>RAJ2000</th><th>DEJ2000</th><th>Redshift</th><th>SpectrumType</th><th>Pivot_Energy</th><th>PL_Flux_Density</th><th>PL_Index</th><th>LP_Flux_Density</th><th>LP_Index</th><th>LP_beta</th><th>CLASS</th><th>SED_class</th><th>Variability_Index</th><th>Frac_Variability</th><th>Unc_Frac_Variability</th><th>Flux1000</th><th>Unc_Flux1000</th></tr></thead>\n",
       "<thead><tr><th>str18</th><th>float32</th><th>float32</th><th>float64</th><th>str17</th><th>float32</th><th>float32</th><th>float32</th><th>float32</th><th>float32</th><th>float32</th><th>str5</th><th>str3</th><th>float32</th><th>float32</th><th>float32</th><th>float32</th><th>float32</th></tr></thead>\n",
       "<tr><td>J0854.0+2753</td><td>133.5155</td><td>27.884</td><td>0.494</td><td>PowerLaw</td><td>21657.176</td><td>2.0061331e-16</td><td>1.4452856</td><td>3.4816347e-16</td><td>0.44803974</td><td>0.8518391</td><td>bll</td><td>ISP</td><td>15.999075</td><td>0.0</td><td>10.0</td><td>3.343894e-11</td><td>1.6875893e-11</td></tr>\n",
       "<tr><td>J0843.1+5034</td><td>130.7877</td><td>50.5741</td><td>0.439228</td><td>PowerLaw</td><td>16281.117</td><td>2.5256283e-16</td><td>1.5676596</td><td>4.2920565e-16</td><td>0.41477</td><td>0.92254114</td><td>bll</td><td>ISP</td><td>12.82761</td><td>0.0</td><td>10.0</td><td>3.271807e-11</td><td>1.651096e-11</td></tr>\n",
       "<tr><td>J1403.4+4319</td><td>210.8684</td><td>43.3225</td><td>0.493249</td><td>PowerLaw</td><td>15546.501</td><td>3.3653146e-16</td><td>1.4860786</td><td>4.693328e-16</td><td>1.4917786</td><td>0.1527251</td><td>bll</td><td>ISP</td><td>14.394237</td><td>0.0</td><td>10.0</td><td>3.6494988e-11</td><td>1.4021048e-11</td></tr>\n",
       "<tr><td>J1424.5+3705</td><td>216.1447</td><td>37.0954</td><td>0.289567</td><td>PowerLaw</td><td>12655.435</td><td>5.086558e-16</td><td>1.587459</td><td>6.457751e-16</td><td>1.4586804</td><td>0.13744408</td><td>bll</td><td>ISP</td><td>5.3397517</td><td>0.0</td><td>10.0</td><td>4.5419876e-11</td><td>1.7910081e-11</td></tr>\n",
       "<tr><td>J1449.5+2746</td><td>222.3956</td><td>27.7686</td><td>0.030588</td><td>PowerLaw</td><td>14613.923</td><td>5.4574587e-16</td><td>1.4604453</td><td>8.3478845e-16</td><td>1.3663455</td><td>0.1986019</td><td>rdg</td><td>ISP</td><td>12.727665</td><td>0.0</td><td>10.0</td><td>5.2408255e-11</td><td>1.6213687e-11</td></tr>\n",
       "<tr><td>J1443.6+2515</td><td>220.9028</td><td>25.2631</td><td>0.529022</td><td>PowerLaw</td><td>17298.791</td><td>5.5116354e-16</td><td>1.7164963</td><td>7.4830194e-16</td><td>1.7135084</td><td>0.19640021</td><td>bll</td><td>ISP</td><td>21.832237</td><td>0.0</td><td>10.0</td><td>9.8816226e-11</td><td>4.4633863e-11</td></tr>\n",
       "<tr><td>...</td><td>...</td><td>...</td><td>...</td><td>...</td><td>...</td><td>...</td><td>...</td><td>...</td><td>...</td><td>...</td><td>...</td><td>...</td><td>...</td><td>...</td><td>...</td><td>...</td><td>...</td></tr>\n",
       "<tr><td>J0050.7-0929</td><td>12.6753</td><td>-9.4936</td><td>0.635</td><td>LogParabola</td><td>959.8714</td><td>4.066104e-12</td><td>2.009811</td><td>4.3360424e-12</td><td>1.919361</td><td>0.05795893</td><td>BLL</td><td>ISP</td><td>173.04103</td><td>0.2895267</td><td>0.065945946</td><td>3.8891583e-09</td><td>1.01961675e-10</td></tr>\n",
       "<tr><td>J1132.7+0034</td><td>173.1961</td><td>0.5737</td><td>0.678</td><td>LogParabola</td><td>786.52136</td><td>4.2410016e-12</td><td>2.129867</td><td>4.3823226e-12</td><td>2.0753903</td><td>0.03346603</td><td>bll</td><td>ISP</td><td>26.02259</td><td>0.11830224</td><td>0.04254161</td><td>2.3106457e-09</td><td>8.148408e-11</td></tr>\n",
       "<tr><td>J1349.5-1131</td><td>207.3869</td><td>-11.5188</td><td>0.34</td><td>LogParabola</td><td>606.9497</td><td>4.426896e-12</td><td>2.4818678</td><td>4.9094036e-12</td><td>2.361503</td><td>0.12553936</td><td>fsrq</td><td>ISP</td><td>535.04156</td><td>1.3135654</td><td>0.28442165</td><td>8.9818086e-10</td><td>5.9749414e-11</td></tr>\n",
       "<tr><td>J1221.5+2814</td><td>185.3784</td><td>28.2382</td><td>0.102</td><td>LogParabola</td><td>780.5394</td><td>6.163338e-12</td><td>2.1456554</td><td>6.299518e-12</td><td>2.1063452</td><td>0.024011256</td><td>bll</td><td>ISP</td><td>339.3346</td><td>0.40082383</td><td>0.0882579</td><td>3.2135232e-09</td><td>8.68317e-11</td></tr>\n",
       "<tr><td>J1103.0+1157</td><td>165.7722</td><td>11.9654</td><td>0.913941</td><td>LogParabola</td><td>522.96045</td><td>7.0562497e-12</td><td>2.4061902</td><td>7.818748e-12</td><td>2.2809193</td><td>0.11406844</td><td>fsrq</td><td>ISP</td><td>569.6048</td><td>0.9734062</td><td>0.21103767</td><td>1.0863931e-09</td><td>5.6787738e-11</td></tr>\n",
       "<tr><td>J0509.4+0542</td><td>77.3593</td><td>5.7014</td><td>0.336</td><td>LogParabola</td><td>1047.3845</td><td>7.771492e-12</td><td>2.0942118</td><td>8.166982e-12</td><td>2.0116632</td><td>0.052890196</td><td>bll</td><td>ISP</td><td>1232.4537</td><td>0.60248905</td><td>0.12942827</td><td>8.15631e-09</td><td>1.5272145e-10</td></tr>\n",
       "<tr><td>J0001.5+2113</td><td>0.3815</td><td>21.2183</td><td>1.106</td><td>LogParabola</td><td>329.77374</td><td>4.683598e-11</td><td>2.65406</td><td>5.3715615e-11</td><td>2.5141594</td><td>0.15931939</td><td>fsrq</td><td>ISP</td><td>1910.9358</td><td>0.9961379</td><td>0.21347848</td><td>1.3473536e-09</td><td>6.172809e-11</td></tr>\n",
       "</table></div>"
      ],
      "text/plain": [
       "<QTable length=231>\n",
       "Source_Name  RAJ2000  DEJ2000  ...    Flux1000    Unc_Flux1000 \n",
       "   str18     float32  float32  ...    float32       float32    \n",
       "------------ -------- -------- ... ------------- --------------\n",
       "J0854.0+2753 133.5155   27.884 ...  3.343894e-11  1.6875893e-11\n",
       "J0843.1+5034 130.7877  50.5741 ...  3.271807e-11   1.651096e-11\n",
       "J1403.4+4319 210.8684  43.3225 ... 3.6494988e-11  1.4021048e-11\n",
       "J1424.5+3705 216.1447  37.0954 ... 4.5419876e-11  1.7910081e-11\n",
       "J1449.5+2746 222.3956  27.7686 ... 5.2408255e-11  1.6213687e-11\n",
       "J1443.6+2515 220.9028  25.2631 ... 9.8816226e-11  4.4633863e-11\n",
       "         ...      ...      ... ...           ...            ...\n",
       "J0050.7-0929  12.6753  -9.4936 ... 3.8891583e-09 1.01961675e-10\n",
       "J1132.7+0034 173.1961   0.5737 ... 2.3106457e-09   8.148408e-11\n",
       "J1349.5-1131 207.3869 -11.5188 ... 8.9818086e-10  5.9749414e-11\n",
       "J1221.5+2814 185.3784  28.2382 ... 3.2135232e-09    8.68317e-11\n",
       "J1103.0+1157 165.7722  11.9654 ... 1.0863931e-09  5.6787738e-11\n",
       "J0509.4+0542  77.3593   5.7014 ...   8.15631e-09  1.5272145e-10\n",
       "J0001.5+2113   0.3815  21.2183 ... 1.3473536e-09   6.172809e-11"
      ]
     },
     "execution_count": 9,
     "metadata": {},
     "output_type": "execute_result"
    }
   ],
   "source": [
    "sources_with_redshift[sources_with_redshift['SED_class'] == 'ISP']\n"
   ]
  },
  {
   "cell_type": "markdown",
   "id": "526cb744",
   "metadata": {},
   "source": [
    "Now let's select those sources without a valid redshift:"
   ]
  },
  {
   "cell_type": "code",
   "execution_count": 10,
   "id": "98e044b4",
   "metadata": {},
   "outputs": [],
   "source": [
    "sources_without_redshift = agn_pop_catalog[agn_pop_catalog['Redshift'] < 0.]\n",
    "ascii.write(sources_without_redshift, 'resulting_catalogs/agn_pop_4lac_dr3_without_z.dat', overwrite=True)  \n",
    "sources_without_redshift.write('resulting_catalogs/agn_pop_4lac_dr3_without_z.ecsv', overwrite=True)  \n",
    "sources_without_redshift.write('resulting_catalogs/agn_pop_4lac_dr3_without_z.fits', overwrite=True)  "
   ]
  },
  {
   "cell_type": "code",
   "execution_count": 11,
   "id": "35ed7386",
   "metadata": {},
   "outputs": [
    {
     "data": {
      "text/plain": [
       "2003"
      ]
     },
     "execution_count": 11,
     "metadata": {},
     "output_type": "execute_result"
    }
   ],
   "source": [
    "len(sources_without_redshift)"
   ]
  },
  {
   "cell_type": "markdown",
   "id": "7827d96c",
   "metadata": {},
   "source": [
    "Make sure that the two catalogs have the same sources as the 4LAC (3814, see above):"
   ]
  },
  {
   "cell_type": "code",
   "execution_count": 12,
   "id": "831b7c12",
   "metadata": {},
   "outputs": [
    {
     "data": {
      "text/plain": [
       "3814"
      ]
     },
     "execution_count": 12,
     "metadata": {},
     "output_type": "execute_result"
    }
   ],
   "source": [
    "len(sources_without_redshift) + len(sources_with_redshift)"
   ]
  },
  {
   "cell_type": "code",
   "execution_count": 13,
   "id": "a496c40f-7ecc-408c-a690-04b1bdcabc8f",
   "metadata": {},
   "outputs": [],
   "source": [
    "fh = fits.open(path_4lac_high_gal_lat)\n",
    "th = Table(fh[1].data)"
   ]
  },
  {
   "cell_type": "code",
   "execution_count": null,
   "id": "fd585bb8-ce23-41e9-a5b3-73b64a4ac098",
   "metadata": {},
   "outputs": [],
   "source": []
  },
  {
   "cell_type": "code",
   "execution_count": 14,
   "id": "d972ad15",
   "metadata": {},
   "outputs": [
    {
     "data": {
      "text/html": [
       "<div><i>QTable length=3814</i>\n",
       "<table id=\"table140507980910800\" class=\"table-striped table-bordered table-condensed\">\n",
       "<thead><tr><th>Source_Name</th><th>RAJ2000</th><th>DEJ2000</th><th>Redshift</th><th>SpectrumType</th><th>Pivot_Energy</th><th>PL_Flux_Density</th><th>PL_Index</th><th>LP_Flux_Density</th><th>LP_Index</th><th>LP_beta</th><th>CLASS</th><th>SED_class</th><th>Variability_Index</th><th>Frac_Variability</th><th>Unc_Frac_Variability</th><th>Flux1000</th><th>Unc_Flux1000</th></tr></thead>\n",
       "<thead><tr><th>str18</th><th>float32</th><th>float32</th><th>float64</th><th>str17</th><th>float32</th><th>float32</th><th>float32</th><th>float32</th><th>float32</th><th>float32</th><th>str5</th><th>str3</th><th>float32</th><th>float32</th><th>float32</th><th>float32</th><th>float32</th></tr></thead>\n",
       "<tr><td>J0001.2+4741</td><td>0.3126</td><td>47.6859</td><td>-inf</td><td>PowerLaw</td><td>2420.5752</td><td>2.1560312e-14</td><td>2.2716956</td><td>2.1965499e-14</td><td>2.2540812</td><td>0.012156134</td><td>bcu</td><td>ISP</td><td>25.313953</td><td>0.67588246</td><td>0.31285</td><td>1.2597956e-10</td><td>2.8771974e-11</td></tr>\n",
       "<tr><td>J0001.2-0747</td><td>0.3151</td><td>-7.7971</td><td>-inf</td><td>PowerLaw</td><td>1721.6039</td><td>2.656894e-13</td><td>2.1166923</td><td>2.842831e-13</td><td>2.0789266</td><td>0.051182024</td><td>bll</td><td>LSP</td><td>46.780693</td><td>0.40656525</td><td>0.11186972</td><td>7.471219e-10</td><td>5.041939e-11</td></tr>\n",
       "<tr><td>J0001.4-0010</td><td>0.3717</td><td>-0.1699</td><td>0.461516</td><td>PowerLaw</td><td>4307.0825</td><td>6.067356e-15</td><td>1.9391596</td><td>6.4888174e-15</td><td>1.6612232</td><td>0.13243835</td><td>bll</td><td>LSP</td><td>9.272764</td><td>0.0</td><td>10.0</td><td>1.0822458e-10</td><td>2.9144395e-11</td></tr>\n",
       "<tr><td>J0001.5+2113</td><td>0.3815</td><td>21.2183</td><td>1.106</td><td>LogParabola</td><td>329.77374</td><td>4.683598e-11</td><td>2.65406</td><td>5.3715615e-11</td><td>2.5141594</td><td>0.15931939</td><td>fsrq</td><td>ISP</td><td>1910.9358</td><td>0.9961379</td><td>0.21347848</td><td>1.3473536e-09</td><td>6.172809e-11</td></tr>\n",
       "<tr><td>J0001.6-4156</td><td>0.4165</td><td>-41.9425</td><td>-inf</td><td>PowerLaw</td><td>4047.03</td><td>1.8815414e-14</td><td>1.7751755</td><td>2.131597e-14</td><td>1.6938646</td><td>0.07275369</td><td>bcu</td><td>HSP</td><td>26.393343</td><td>0.49097705</td><td>0.17578249</td><td>2.8218167e-10</td><td>3.0908824e-11</td></tr>\n",
       "<tr><td>J0001.8-2153</td><td>0.4647</td><td>-21.8865</td><td>-inf</td><td>PowerLaw</td><td>4429.934</td><td>4.94271e-15</td><td>1.8766632</td><td>7.494641e-15</td><td>1.7166204</td><td>0.40580785</td><td>bcu</td><td>LSP</td><td>24.557972</td><td>0.90285075</td><td>0.38010666</td><td>9.04753e-11</td><td>2.4425273e-11</td></tr>\n",
       "<tr><td>...</td><td>...</td><td>...</td><td>...</td><td>...</td><td>...</td><td>...</td><td>...</td><td>...</td><td>...</td><td>...</td><td>...</td><td>...</td><td>...</td><td>...</td><td>...</td><td>...</td><td>...</td></tr>\n",
       "<tr><td>J2359.1+1719</td><td>359.7756</td><td>17.3225</td><td>-inf</td><td>PowerLaw</td><td>2498.8909</td><td>2.3101153e-14</td><td>2.1126761</td><td>2.739969e-14</td><td>1.9953225</td><td>0.11684519</td><td>bcu</td><td>ISP</td><td>10.333145</td><td>0.0</td><td>10.0</td><td>1.4291587e-10</td><td>2.8333176e-11</td></tr>\n",
       "<tr><td>J2359.2-3134</td><td>359.8167</td><td>-31.5832</td><td>0.99</td><td>PowerLaw</td><td>633.0502</td><td>9.404723e-13</td><td>2.6442769</td><td>9.687202e-13</td><td>2.6346161</td><td>0.023825364</td><td>fsrq</td><td>LSP</td><td>82.691574</td><td>1.0123546</td><td>0.2485515</td><td>1.7072874e-10</td><td>2.7292819e-11</td></tr>\n",
       "<tr><td>J2359.3+0215</td><td>359.8329</td><td>2.2603</td><td>-inf</td><td>LogParabola</td><td>5170.6035</td><td>5.111725e-15</td><td>1.7570344</td><td>9.790216e-15</td><td>1.6448935</td><td>0.46008602</td><td>bcu</td><td>LSP</td><td>16.065315</td><td>0.3119705</td><td>0.62583345</td><td>1.3542016e-10</td><td>3.09254e-11</td></tr>\n",
       "<tr><td>J2359.3-2049</td><td>359.8357</td><td>-20.8189</td><td>0.096</td><td>PowerLaw</td><td>2594.2498</td><td>5.196033e-14</td><td>1.9841878</td><td>5.1973837e-14</td><td>1.9827508</td><td>0.0017604796</td><td>bll</td><td>LSP</td><td>14.04321</td><td>0.17721713</td><td>0.19097336</td><td>3.4629855e-10</td><td>3.4945647e-11</td></tr>\n",
       "<tr><td>J2359.7-5041</td><td>359.9365</td><td>-50.6853</td><td>-inf</td><td>LogParabola</td><td>842.0542</td><td>1.8460889e-13</td><td>2.6841006</td><td>3.1374225e-13</td><td>2.596392</td><td>0.73108906</td><td>bcu</td><td>LSP</td><td>7.732565</td><td>0.0</td><td>10.0</td><td>8.2862404e-11</td><td>2.4062485e-11</td></tr>\n",
       "<tr><td>J2359.9-3736</td><td>359.9816</td><td>-37.616</td><td>-inf</td><td>PowerLaw</td><td>1730.6754</td><td>6.743669e-14</td><td>2.1202095</td><td>8.0212624e-14</td><td>2.0072987</td><td>0.12712131</td><td>bcu</td><td>LSP</td><td>8.143241</td><td>0.0</td><td>10.0</td><td>1.9153952e-10</td><td>2.6596393e-11</td></tr>\n",
       "<tr><td>J2359.9+3145</td><td>359.9908</td><td>31.7601</td><td>-inf</td><td>LogParabola</td><td>3161.0903</td><td>2.1091732e-14</td><td>1.8837832</td><td>2.556651e-14</td><td>1.6291467</td><td>0.19130631</td><td>bcu</td><td>HSP</td><td>17.28301</td><td>0.41674295</td><td>0.2487525</td><td>2.0837798e-10</td><td>3.6104845e-11</td></tr>\n",
       "</table></div>"
      ],
      "text/plain": [
       "<QTable length=3814>\n",
       "Source_Name  RAJ2000  DEJ2000  ...    Flux1000    Unc_Flux1000\n",
       "   str18     float32  float32  ...    float32       float32   \n",
       "------------ -------- -------- ... ------------- -------------\n",
       "J0001.2+4741   0.3126  47.6859 ... 1.2597956e-10 2.8771974e-11\n",
       "J0001.2-0747   0.3151  -7.7971 ...  7.471219e-10  5.041939e-11\n",
       "J0001.4-0010   0.3717  -0.1699 ... 1.0822458e-10 2.9144395e-11\n",
       "J0001.5+2113   0.3815  21.2183 ... 1.3473536e-09  6.172809e-11\n",
       "J0001.6-4156   0.4165 -41.9425 ... 2.8218167e-10 3.0908824e-11\n",
       "J0001.8-2153   0.4647 -21.8865 ...   9.04753e-11 2.4425273e-11\n",
       "         ...      ...      ... ...           ...           ...\n",
       "J2359.1+1719 359.7756  17.3225 ... 1.4291587e-10 2.8333176e-11\n",
       "J2359.2-3134 359.8167 -31.5832 ... 1.7072874e-10 2.7292819e-11\n",
       "J2359.3+0215 359.8329   2.2603 ... 1.3542016e-10   3.09254e-11\n",
       "J2359.3-2049 359.8357 -20.8189 ... 3.4629855e-10 3.4945647e-11\n",
       "J2359.7-5041 359.9365 -50.6853 ... 8.2862404e-11 2.4062485e-11\n",
       "J2359.9-3736 359.9816  -37.616 ... 1.9153952e-10 2.6596393e-11\n",
       "J2359.9+3145 359.9908  31.7601 ... 2.0837798e-10 3.6104845e-11"
      ]
     },
     "execution_count": 14,
     "metadata": {},
     "output_type": "execute_result"
    }
   ],
   "source": [
    "agn_pop_catalog"
   ]
  },
  {
   "cell_type": "code",
   "execution_count": null,
   "id": "2f8cdb9a",
   "metadata": {},
   "outputs": [],
   "source": []
  },
  {
   "cell_type": "code",
   "execution_count": 15,
   "id": "b2afa1a7-0381-416b-bc31-d8dade69fd2c",
   "metadata": {},
   "outputs": [
    {
     "name": "stdout",
     "output_type": "stream",
     "text": [
      "List of column names:\n",
      " ['Source_Name', 'RAJ2000', 'DEJ2000', 'Redshift', 'SpectrumType', 'Pivot_Energy', 'PL_Flux_Density', 'PL_Index', 'LP_Flux_Density', 'LP_Index', 'LP_beta', 'CLASS', 'SED_class', 'Variability_Index', 'Frac_Variability', 'Unc_Frac_Variability', 'Flux1000', 'Unc_Flux1000']\n",
      "\n",
      "Number of table rows: 3814\n"
     ]
    }
   ],
   "source": [
    "print('List of column names:\\n', agn_pop_catalog.colnames)  # list of column names\n",
    "print('\\nNumber of table rows:', len(agn_pop_catalog))      # number of table rows"
   ]
  },
  {
   "cell_type": "code",
   "execution_count": null,
   "id": "d2531b17-e00e-4509-b314-5a0467c433ba",
   "metadata": {},
   "outputs": [],
   "source": []
  },
  {
   "cell_type": "code",
   "execution_count": null,
   "id": "a6b1b17f-4f48-4f01-b883-53dca6f87585",
   "metadata": {},
   "outputs": [],
   "source": []
  }
 ],
 "metadata": {
  "kernelspec": {
   "display_name": "Python 3 (ipykernel)",
   "language": "python",
   "name": "python3"
  },
  "language_info": {
   "codemirror_mode": {
    "name": "ipython",
    "version": 3
   },
   "file_extension": ".py",
   "mimetype": "text/x-python",
   "name": "python",
   "nbconvert_exporter": "python",
   "pygments_lexer": "ipython3",
   "version": "3.9.7"
  }
 },
 "nbformat": 4,
 "nbformat_minor": 5
}
