{
 "cells": [
  {
   "cell_type": "code",
   "execution_count": 1,
   "id": "cdea26e5-fcd3-42a7-a05a-dbede11fd881",
   "metadata": {},
   "outputs": [
    {
     "name": "stdout",
     "output_type": "stream",
     "text": [
      "Total number of 4LAC entries found in the 4FGL: 3511\n",
      "Total number of 4LAC entries: 3511\n",
      "Added a total of 3511 redshifts. 1767 had positive values.\n",
      " -- From Paolo's catalog -- \n",
      "A total of 0 redshifts were correct within 4LAC\n",
      "Removed a total of 87 redshifts from 4LAC\n",
      "Added a total of 23 redshifts to 4LAC\n",
      "Updated a total of 236 redshifts of 4LAC\n",
      "\n",
      "\n",
      "List of column names: agn_pop_catalog\n",
      "\n",
      " ['Source_Name', 'RAJ2000', 'DEJ2000', 'Redshift', 'SpectrumType', 'Pivot_Energy', 'PL_Flux_Density', 'PL_Index', 'LP_Flux_Density', 'LP_Index', 'LP_beta', 'SED_class', 'Variability_Index', 'Frac_Variability', 'Unc_Frac_Variability', 'Flux1000', 'Unc_Flux1000', 'Flux_History', 'Unc_Flux_History']\n",
      "\n",
      "Number of table rows: 3511\n"
     ]
    },
    {
     "ename": "NameError",
     "evalue": "name 'catalog_with_flux_history' is not defined",
     "output_type": "error",
     "traceback": [
      "\u001b[0;31m---------------------------------------------------------------------------\u001b[0m",
      "\u001b[0;31mNameError\u001b[0m                                 Traceback (most recent call last)",
      "File \u001b[0;32m/var/folders/sk/6dg2gqpn01x3m5hwkj90qkgw0000gp/T/ipykernel_9772/2308011816.py:11\u001b[0m\n\u001b[1;32m      6\u001b[0m average_flux \u001b[38;5;241m=\u001b[39m []\n\u001b[1;32m      8\u001b[0m unc_f_var_sources \u001b[38;5;241m=\u001b[39m []\n\u001b[0;32m---> 11\u001b[0m \u001b[38;5;28;01mfor\u001b[39;00m i \u001b[38;5;129;01min\u001b[39;00m \u001b[38;5;28mrange\u001b[39m(\u001b[38;5;28mlen\u001b[39m(\u001b[43mcatalog_with_flux_history\u001b[49m)):\n\u001b[1;32m     12\u001b[0m     \n\u001b[1;32m     13\u001b[0m     \u001b[38;5;66;03m## Selecting each source by name\u001b[39;00m\n\u001b[1;32m     14\u001b[0m     select_source \u001b[38;5;241m=\u001b[39m catalog_with_flux_history[\u001b[38;5;124m'\u001b[39m\u001b[38;5;124mSource_Name\u001b[39m\u001b[38;5;124m'\u001b[39m][i]\n\u001b[1;32m     15\u001b[0m     source_names\u001b[38;5;241m.\u001b[39mappend(\u001b[38;5;124mf\u001b[39m\u001b[38;5;124m'\u001b[39m\u001b[38;5;132;01m{\u001b[39;00mselect_source\u001b[38;5;132;01m}\u001b[39;00m\u001b[38;5;124m'\u001b[39m)\n",
      "\u001b[0;31mNameError\u001b[0m: name 'catalog_with_flux_history' is not defined"
     ]
    },
    {
     "ename": "NameError",
     "evalue": "name 'catalog_with_flux_history' is not defined",
     "output_type": "error",
     "traceback": [
      "\u001b[0;31m---------------------------------------------------------------------------\u001b[0m",
      "\u001b[0;31mNameError\u001b[0m                                 Traceback (most recent call last)",
      "Cell \u001b[0;32mIn[1], line 1\u001b[0m\n\u001b[0;32m----> 1\u001b[0m \u001b[43mget_ipython\u001b[49m\u001b[43m(\u001b[49m\u001b[43m)\u001b[49m\u001b[38;5;241;43m.\u001b[39;49m\u001b[43mrun_line_magic\u001b[49m\u001b[43m(\u001b[49m\u001b[38;5;124;43m'\u001b[39;49m\u001b[38;5;124;43mrun\u001b[39;49m\u001b[38;5;124;43m'\u001b[39;49m\u001b[43m,\u001b[49m\u001b[43m \u001b[49m\u001b[38;5;124;43m'\u001b[39;49m\u001b[38;5;124;43mcreate_4LAC_for_AGN_Pop.ipynb\u001b[39;49m\u001b[38;5;124;43m'\u001b[39;49m\u001b[43m)\u001b[49m\n",
      "File \u001b[0;32m~/opt/anaconda3/lib/python3.9/site-packages/IPython/core/interactiveshell.py:2432\u001b[0m, in \u001b[0;36mInteractiveShell.run_line_magic\u001b[0;34m(self, magic_name, line, _stack_depth)\u001b[0m\n\u001b[1;32m   2430\u001b[0m     kwargs[\u001b[38;5;124m'\u001b[39m\u001b[38;5;124mlocal_ns\u001b[39m\u001b[38;5;124m'\u001b[39m] \u001b[38;5;241m=\u001b[39m \u001b[38;5;28mself\u001b[39m\u001b[38;5;241m.\u001b[39mget_local_scope(stack_depth)\n\u001b[1;32m   2431\u001b[0m \u001b[38;5;28;01mwith\u001b[39;00m \u001b[38;5;28mself\u001b[39m\u001b[38;5;241m.\u001b[39mbuiltin_trap:\n\u001b[0;32m-> 2432\u001b[0m     result \u001b[38;5;241m=\u001b[39m \u001b[43mfn\u001b[49m\u001b[43m(\u001b[49m\u001b[38;5;241;43m*\u001b[39;49m\u001b[43margs\u001b[49m\u001b[43m,\u001b[49m\u001b[43m \u001b[49m\u001b[38;5;241;43m*\u001b[39;49m\u001b[38;5;241;43m*\u001b[39;49m\u001b[43mkwargs\u001b[49m\u001b[43m)\u001b[49m\n\u001b[1;32m   2434\u001b[0m \u001b[38;5;66;03m# The code below prevents the output from being displayed\u001b[39;00m\n\u001b[1;32m   2435\u001b[0m \u001b[38;5;66;03m# when using magics with decorator @output_can_be_silenced\u001b[39;00m\n\u001b[1;32m   2436\u001b[0m \u001b[38;5;66;03m# when the last Python token in the expression is a ';'.\u001b[39;00m\n\u001b[1;32m   2437\u001b[0m \u001b[38;5;28;01mif\u001b[39;00m \u001b[38;5;28mgetattr\u001b[39m(fn, magic\u001b[38;5;241m.\u001b[39mMAGIC_OUTPUT_CAN_BE_SILENCED, \u001b[38;5;28;01mFalse\u001b[39;00m):\n",
      "File \u001b[0;32m~/opt/anaconda3/lib/python3.9/site-packages/IPython/core/magics/execution.py:737\u001b[0m, in \u001b[0;36mExecutionMagics.run\u001b[0;34m(self, parameter_s, runner, file_finder)\u001b[0m\n\u001b[1;32m    735\u001b[0m     \u001b[38;5;28;01mwith\u001b[39;00m preserve_keys(\u001b[38;5;28mself\u001b[39m\u001b[38;5;241m.\u001b[39mshell\u001b[38;5;241m.\u001b[39muser_ns, \u001b[38;5;124m'\u001b[39m\u001b[38;5;124m__file__\u001b[39m\u001b[38;5;124m'\u001b[39m):\n\u001b[1;32m    736\u001b[0m         \u001b[38;5;28mself\u001b[39m\u001b[38;5;241m.\u001b[39mshell\u001b[38;5;241m.\u001b[39muser_ns[\u001b[38;5;124m'\u001b[39m\u001b[38;5;124m__file__\u001b[39m\u001b[38;5;124m'\u001b[39m] \u001b[38;5;241m=\u001b[39m filename\n\u001b[0;32m--> 737\u001b[0m         \u001b[38;5;28;43mself\u001b[39;49m\u001b[38;5;241;43m.\u001b[39;49m\u001b[43mshell\u001b[49m\u001b[38;5;241;43m.\u001b[39;49m\u001b[43msafe_execfile_ipy\u001b[49m\u001b[43m(\u001b[49m\u001b[43mfilename\u001b[49m\u001b[43m,\u001b[49m\u001b[43m \u001b[49m\u001b[43mraise_exceptions\u001b[49m\u001b[38;5;241;43m=\u001b[39;49m\u001b[38;5;28;43;01mTrue\u001b[39;49;00m\u001b[43m)\u001b[49m\n\u001b[1;32m    738\u001b[0m     \u001b[38;5;28;01mreturn\u001b[39;00m\n\u001b[1;32m    740\u001b[0m \u001b[38;5;66;03m# Control the response to exit() calls made by the script being run\u001b[39;00m\n",
      "File \u001b[0;32m~/opt/anaconda3/lib/python3.9/site-packages/IPython/core/interactiveshell.py:2954\u001b[0m, in \u001b[0;36mInteractiveShell.safe_execfile_ipy\u001b[0;34m(self, fname, shell_futures, raise_exceptions)\u001b[0m\n\u001b[1;32m   2952\u001b[0m result \u001b[38;5;241m=\u001b[39m \u001b[38;5;28mself\u001b[39m\u001b[38;5;241m.\u001b[39mrun_cell(cell, silent\u001b[38;5;241m=\u001b[39m\u001b[38;5;28;01mTrue\u001b[39;00m, shell_futures\u001b[38;5;241m=\u001b[39mshell_futures)\n\u001b[1;32m   2953\u001b[0m \u001b[38;5;28;01mif\u001b[39;00m raise_exceptions:\n\u001b[0;32m-> 2954\u001b[0m     \u001b[43mresult\u001b[49m\u001b[38;5;241;43m.\u001b[39;49m\u001b[43mraise_error\u001b[49m\u001b[43m(\u001b[49m\u001b[43m)\u001b[49m\n\u001b[1;32m   2955\u001b[0m \u001b[38;5;28;01melif\u001b[39;00m \u001b[38;5;129;01mnot\u001b[39;00m result\u001b[38;5;241m.\u001b[39msuccess:\n\u001b[1;32m   2956\u001b[0m     \u001b[38;5;28;01mbreak\u001b[39;00m\n",
      "File \u001b[0;32m~/opt/anaconda3/lib/python3.9/site-packages/IPython/core/interactiveshell.py:270\u001b[0m, in \u001b[0;36mExecutionResult.raise_error\u001b[0;34m(self)\u001b[0m\n\u001b[1;32m    268\u001b[0m     \u001b[38;5;28;01mraise\u001b[39;00m \u001b[38;5;28mself\u001b[39m\u001b[38;5;241m.\u001b[39merror_before_exec\n\u001b[1;32m    269\u001b[0m \u001b[38;5;28;01mif\u001b[39;00m \u001b[38;5;28mself\u001b[39m\u001b[38;5;241m.\u001b[39merror_in_exec \u001b[38;5;129;01mis\u001b[39;00m \u001b[38;5;129;01mnot\u001b[39;00m \u001b[38;5;28;01mNone\u001b[39;00m:\n\u001b[0;32m--> 270\u001b[0m     \u001b[38;5;28;01mraise\u001b[39;00m \u001b[38;5;28mself\u001b[39m\u001b[38;5;241m.\u001b[39merror_in_exec\n",
      "    \u001b[0;31m[... skipping hidden 1 frame]\u001b[0m\n",
      "File \u001b[0;32m/var/folders/sk/6dg2gqpn01x3m5hwkj90qkgw0000gp/T/ipykernel_9772/2308011816.py:11\u001b[0m\n\u001b[1;32m      6\u001b[0m average_flux \u001b[38;5;241m=\u001b[39m []\n\u001b[1;32m      8\u001b[0m unc_f_var_sources \u001b[38;5;241m=\u001b[39m []\n\u001b[0;32m---> 11\u001b[0m \u001b[38;5;28;01mfor\u001b[39;00m i \u001b[38;5;129;01min\u001b[39;00m \u001b[38;5;28mrange\u001b[39m(\u001b[38;5;28mlen\u001b[39m(\u001b[43mcatalog_with_flux_history\u001b[49m)):\n\u001b[1;32m     12\u001b[0m     \n\u001b[1;32m     13\u001b[0m     \u001b[38;5;66;03m## Selecting each source by name\u001b[39;00m\n\u001b[1;32m     14\u001b[0m     select_source \u001b[38;5;241m=\u001b[39m catalog_with_flux_history[\u001b[38;5;124m'\u001b[39m\u001b[38;5;124mSource_Name\u001b[39m\u001b[38;5;124m'\u001b[39m][i]\n\u001b[1;32m     15\u001b[0m     source_names\u001b[38;5;241m.\u001b[39mappend(\u001b[38;5;124mf\u001b[39m\u001b[38;5;124m'\u001b[39m\u001b[38;5;132;01m{\u001b[39;00mselect_source\u001b[38;5;132;01m}\u001b[39;00m\u001b[38;5;124m'\u001b[39m)\n",
      "\u001b[0;31mNameError\u001b[0m: name 'catalog_with_flux_history' is not defined"
     ]
    }
   ],
   "source": [
    "%run create_4LAC_for_AGN_Pop.ipynb"
   ]
  },
  {
   "cell_type": "code",
   "execution_count": null,
   "id": "84a78a48-52c7-4fac-a5be-00402789d429",
   "metadata": {},
   "outputs": [],
   "source": []
  },
  {
   "cell_type": "code",
   "execution_count": null,
   "id": "7535060d-a14e-417a-a696-050870330b6f",
   "metadata": {},
   "outputs": [],
   "source": [
    "catalog_data = agn_pop_catalog['Source_Name', 'SpectrumType', 'Pivot_Energy', 'PL_Flux_Density', 'PL_Index', 'LP_Flux_Density', 'LP_Index', 'LP_beta', 'SED_class', 'Flux1000', 'Unc_Flux1000', 'Frac_Variability', 'Unc_Frac_Variability']\n",
    "\n",
    "catalog_data"
   ]
  },
  {
   "cell_type": "code",
   "execution_count": null,
   "id": "0592e033-dc62-4d6e-a047-0fb949ea8117",
   "metadata": {},
   "outputs": [],
   "source": [
    "np.unique(catalog_data['SED_class'])"
   ]
  },
  {
   "cell_type": "code",
   "execution_count": null,
   "id": "d861c5aa-0b2d-4a8d-9098-8dfe88aa4861",
   "metadata": {},
   "outputs": [],
   "source": []
  },
  {
   "cell_type": "code",
   "execution_count": null,
   "id": "07948ff3-c06b-430d-a50e-61cc5a208f40",
   "metadata": {},
   "outputs": [],
   "source": []
  },
  {
   "cell_type": "markdown",
   "id": "1524a029-3bfc-405d-976a-5b648bfd7c01",
   "metadata": {},
   "source": [
    "## Spectrum Flux\n",
    "\n",
    "## Flux1000 & Unc_Flux1000\n",
    "\n",
    "We will use 4FGL's values of Flux1000 to compare with the Spectrum Flux we have estimated.\n",
    "\n",
    "\n",
    "Flux1000 = Integral photon flux from 1 to 100 GeV\n",
    "\n",
    "Unc Flux1000 = 1$\\sigma $ error on integral photon flux from 1 to 100 GeV"
   ]
  },
  {
   "cell_type": "code",
   "execution_count": null,
   "id": "6a39b5ff-1c27-4c76-834c-d3a38fb2b0d4",
   "metadata": {},
   "outputs": [],
   "source": [
    "catalog_with_flux1000 = agn_pop_catalog['Source_Name', 'Flux1000', 'Unc_Flux1000'] # 'SED_class'\n",
    "\n",
    "catalog_with_flux1000"
   ]
  },
  {
   "cell_type": "code",
   "execution_count": null,
   "id": "88e9a20e-d622-4e63-a254-0b0673f3015e",
   "metadata": {},
   "outputs": [],
   "source": [
    "# ## saving the dataframe as a .csv table\n",
    "\n",
    "# table_flux1000 = Table.from_pandas(catalog_with_flux1000.to_pandas())\n",
    "# table_flux1000.write('./resulting_catalogs/flux1000.fits', format='fits', overwrite=True)\n",
    "# table_flux1000.write('./resulting_catalogs/flux1000.ecsv', format='ascii.ecsv', overwrite=True)"
   ]
  },
  {
   "cell_type": "code",
   "execution_count": null,
   "id": "37902589-1bb5-4428-a762-412b94ea0f96",
   "metadata": {},
   "outputs": [],
   "source": []
  },
  {
   "cell_type": "code",
   "execution_count": null,
   "id": "a06bddd7-7f1b-42c1-a809-affefbb2d935",
   "metadata": {},
   "outputs": [],
   "source": []
  },
  {
   "cell_type": "code",
   "execution_count": null,
   "id": "be92e5a2-e0f9-49fc-a9f5-a9deabb3ef16",
   "metadata": {},
   "outputs": [],
   "source": []
  },
  {
   "cell_type": "markdown",
   "id": "0b3b4bd2-073f-4fde-8a29-2cb3c3b1cfbd",
   "metadata": {},
   "source": [
    "## Upper Limits\n",
    "\n",
    "$$ \\text{spectrum_flux} = \\frac{\\Sigma_{i} \\text{flux}_{i} + n_{UL} \\times \\text{flux}_{UL}}{n_{i} + n_{UL}} $$\n",
    "\n",
    "then, we can obtain an estimate of the Upper Limit flux by\n",
    "\n",
    "$$ \\text{flux}_{UL} = \\frac{\\text{spectrum_flux} \\times (n_{i} + n_{UL}) -  \\Sigma_{i} \\text{flux}_{i}}{n_{UL}} $$"
   ]
  },
  {
   "cell_type": "code",
   "execution_count": null,
   "id": "13a3d1eb-6a02-480d-a647-7918a62444dc",
   "metadata": {},
   "outputs": [],
   "source": [
    "\n",
    "# ni_flux = \n",
    "# n_UL = # number of upper limits\n",
    "# flux_UL = # UL flux that we want to estimate\n",
    "\n",
    "# flux_UL = (1/n_UL) * ( spectrum_flux * (ni_flux + n_UL) - flux.sum() )\n",
    "\n"
   ]
  },
  {
   "cell_type": "markdown",
   "id": "197bf377-4737-40df-9adf-2d6bb93739f9",
   "metadata": {},
   "source": [
    "Adding weights to estimate the mean"
   ]
  },
  {
   "cell_type": "code",
   "execution_count": null,
   "id": "f02fb46f-a32f-4306-9722-42cb67a87da9",
   "metadata": {},
   "outputs": [],
   "source": [
    "# Exemplo de array de fluxos e pesos\n",
    "flux = np.array([10, 20, 30, 40, 50])\n",
    "weights = np.array([1, 2, 1, 2, 1])\n",
    "\n",
    "# Calculando a média ponderada\n",
    "weighted_mean = np.average(flux, weights=weights)\n",
    "\n",
    "# Ou manualmente\n",
    "weighted_sum = np.sum(flux * weights)\n",
    "sum_of_weights = np.sum(weights)\n",
    "weighted_mean_manual = weighted_sum / sum_of_weights\n",
    "\n",
    "print(\"Média ponderada:\", weighted_mean)\n",
    "print(\"Média ponderada (manual):\", weighted_mean_manual)\n"
   ]
  },
  {
   "cell_type": "code",
   "execution_count": null,
   "id": "51135fbb-639a-46c9-96b5-c61d644a4213",
   "metadata": {},
   "outputs": [],
   "source": []
  },
  {
   "cell_type": "code",
   "execution_count": null,
   "id": "ab7ba7c7-8a13-4760-976c-d909f2e11a4f",
   "metadata": {},
   "outputs": [],
   "source": []
  },
  {
   "cell_type": "code",
   "execution_count": null,
   "id": "7a5ebf99-7581-4825-b9b1-17e18681d95a",
   "metadata": {},
   "outputs": [],
   "source": []
  },
  {
   "cell_type": "markdown",
   "id": "a3671330-48cc-4a30-9bcd-37ff3bf8c4c6",
   "metadata": {},
   "source": [
    "## Comparing cases:\n",
    "\n",
    "- unc_flux_UL = flux_UL\n",
    "    flux_UL = 0\n",
    "    \n",
    "- $ \\text{flux}_{UL} = \\frac{\\text{spectrum_flux} \\times (n_{i} + n_{UL}) -  \\Sigma_{i} \\text{flux}_{i}}{n_{UL}} $\n",
    "\n",
    "- Adding weights on UL flux values (bias ?)"
   ]
  },
  {
   "cell_type": "code",
   "execution_count": null,
   "id": "73d2cc53-ecd9-4c35-b636-03a49bf64e4e",
   "metadata": {},
   "outputs": [],
   "source": []
  },
  {
   "cell_type": "code",
   "execution_count": null,
   "id": "ec9d2082-93f5-4645-8847-a5b5bc06a72b",
   "metadata": {},
   "outputs": [],
   "source": []
  },
  {
   "cell_type": "code",
   "execution_count": null,
   "id": "a53a1555-b2bb-477b-9d75-4f0e30b3143b",
   "metadata": {},
   "outputs": [],
   "source": []
  },
  {
   "cell_type": "code",
   "execution_count": null,
   "id": "9fc19ce4-6a0b-4d43-a15a-772668e31da7",
   "metadata": {},
   "outputs": [],
   "source": []
  },
  {
   "cell_type": "markdown",
   "id": "aa82de20-4cf0-4818-a646-156f36e45f6b",
   "metadata": {},
   "source": [
    "## Testing the Fractional Variability Parameter (F_var)\n",
    "\n",
    "Creating a dataframe with the Fractional Variability parameter per source in the filtered catalog:"
   ]
  },
  {
   "cell_type": "code",
   "execution_count": null,
   "id": "8533f1b8-8b77-4212-8e13-462bb0672a91",
   "metadata": {},
   "outputs": [],
   "source": [
    "catalog_with_fvar = agn_pop_catalog['Source_Name', 'Frac_Variability', 'Unc_Frac_Variability'] # 'SED_class'\n",
    "\n",
    "catalog_with_fvar"
   ]
  },
  {
   "cell_type": "code",
   "execution_count": null,
   "id": "8506217e-a44d-4c70-9d90-bd3b4f77dbf8",
   "metadata": {},
   "outputs": [],
   "source": [
    "## Saving the dataframe as a .csv table\n",
    "\n",
    "# catalog_with_fvar.to_pandas().to_csv('Fvar_data.csv', index=False)"
   ]
  },
  {
   "cell_type": "code",
   "execution_count": null,
   "id": "4b1c50d2-79f0-48e2-b1d5-64df2b1c5ed3",
   "metadata": {},
   "outputs": [],
   "source": []
  },
  {
   "cell_type": "code",
   "execution_count": null,
   "id": "ef3c0a47-4188-4d4a-9133-d5f5f942dd69",
   "metadata": {},
   "outputs": [],
   "source": []
  },
  {
   "cell_type": "markdown",
   "id": "d3aeca77-6f37-44d7-af79-8ce7e4800395",
   "metadata": {},
   "source": [
    "### Selecting the Flux History of one specific source\n",
    "\n",
    "Selecting the source Mrk421 = 'J1104.4+3812'"
   ]
  },
  {
   "cell_type": "code",
   "execution_count": null,
   "id": "0414f06d-7afb-46ff-8c98-82f6daf39c9b",
   "metadata": {},
   "outputs": [],
   "source": [
    "catalog_with_fvar[catalog_with_fvar['Source_Name'] == 'J1104.4+3812']"
   ]
  },
  {
   "cell_type": "markdown",
   "id": "6b343bc8-e27c-41db-92fc-aafd7b5b82a9",
   "metadata": {},
   "source": [
    "We can extract 1-year lightcurve information from the 4FGL:"
   ]
  },
  {
   "cell_type": "code",
   "execution_count": null,
   "id": "9ae4d781-3a4a-4120-833e-98ca7b2b823b",
   "metadata": {},
   "outputs": [],
   "source": [
    "catalog_with_flux_history = agn_pop_catalog['Source_Name', 'Flux_History', 'Unc_Flux_History']\n",
    "\n",
    "catalog_with_flux_history"
   ]
  },
  {
   "cell_type": "code",
   "execution_count": null,
   "id": "c69910d4-efdc-4e70-9ec8-ae6f9d86c8a9",
   "metadata": {},
   "outputs": [],
   "source": []
  },
  {
   "cell_type": "code",
   "execution_count": null,
   "id": "84638def-1701-491f-b98d-6ed957f6b493",
   "metadata": {},
   "outputs": [],
   "source": []
  },
  {
   "cell_type": "markdown",
   "id": "a9cd055b-3954-4e48-8cfa-53f52294bf87",
   "metadata": {},
   "source": [
    "### Testing the flux selection and Upper Limit Filter"
   ]
  },
  {
   "cell_type": "code",
   "execution_count": null,
   "id": "4222e489-2220-46cf-821f-d4678327212d",
   "metadata": {},
   "outputs": [],
   "source": [
    "## Select a single row based on the source name\n",
    "\n",
    "# 'J2359.2-3134' / 'J1104.4+3812' / 'J0001.2+4741'\n",
    "\n",
    "selected_source = catalog_with_flux_history[catalog_with_flux_history['Source_Name'] == 'J0001.2+4741']"
   ]
  },
  {
   "cell_type": "code",
   "execution_count": null,
   "id": "ef455bf2-53ae-4559-94b5-da4db843d0aa",
   "metadata": {},
   "outputs": [],
   "source": [
    "selected_source"
   ]
  },
  {
   "cell_type": "code",
   "execution_count": null,
   "id": "b0af8c23-d4c2-48e5-abec-e6a87ec0a957",
   "metadata": {},
   "outputs": [],
   "source": [
    "## Flux Points\n",
    "\n",
    "selected_source['Flux_History'][0][:]"
   ]
  },
  {
   "cell_type": "code",
   "execution_count": null,
   "id": "cc50df32-476e-4975-9764-b9fdbf87bdf5",
   "metadata": {},
   "outputs": [],
   "source": [
    "## Unc Flux Points\n",
    "\n",
    "selected_source['Unc_Flux_History'][0][:]"
   ]
  },
  {
   "cell_type": "code",
   "execution_count": null,
   "id": "abd49567-cdfc-453d-9fd5-c81d481dff72",
   "metadata": {},
   "outputs": [],
   "source": [
    "## Extracting flux points and errors\n",
    "\n",
    "## creating a mask for upper limits\n",
    "mask_source = np.invert(np.isnan(selected_source['Unc_Flux_History'][0][:,0]))\n",
    "\n",
    "## selecting the values that are not Upper Limits\n",
    "source_flux = selected_source['Flux_History'][0][mask_source]\n",
    "\n",
    "## choose the positive uncertainties (seems larger)\n",
    "source_flux_unc = selected_source['Unc_Flux_History'][0][:,1][mask_source]"
   ]
  },
  {
   "cell_type": "code",
   "execution_count": null,
   "id": "6ae5f7eb-7de1-479b-9585-2df5301f380b",
   "metadata": {},
   "outputs": [],
   "source": [
    "source_flux"
   ]
  },
  {
   "cell_type": "code",
   "execution_count": null,
   "id": "57798406-9d68-4756-b35c-d3e1a6ae1121",
   "metadata": {},
   "outputs": [],
   "source": [
    "source_flux_unc"
   ]
  },
  {
   "cell_type": "code",
   "execution_count": null,
   "id": "21756615-0b24-49ac-983f-b61295f1ef5f",
   "metadata": {},
   "outputs": [],
   "source": []
  },
  {
   "cell_type": "code",
   "execution_count": null,
   "id": "87af1c78-de3f-4149-bcf7-6efc01cb721a",
   "metadata": {},
   "outputs": [],
   "source": [
    "## Testing errors\n",
    "\n",
    "# fluxes = selected_source[\"Flux_History\"]\n",
    "# fluxes_unc = selected_source[\"Unc_Flux_History\"][:, 1].copy()\n",
    "# errors = selected_source[\"Unc_Flux_History\"][0][:]\n",
    "# nan_locations = np.where(np.isnan(errors[:,0]))[0]\n",
    "\n",
    "# fluxes_error = []\n",
    "\n",
    "# for i, err in enumerate(errors):\n",
    "#     if i not in nan_locations:\n",
    "#         print(fluxes[i,i])\n",
    "#         print('err', err)\n",
    "#         ## selecting only the error bar: flux_error = flux - flux_low_error // flux_high_error - flux\n",
    "#         flux_point_low_error = fluxes[i,i] - err[0]\n",
    "#         flux_point_high_error = err[1] - fluxes[i,i]\n",
    "        \n",
    "#         if flux_point_high_error >= flux_point_low_error:\n",
    "#             flux_error = flux_point_high_error\n",
    "#         else:\n",
    "#             flux_error = flux_point_low_error\n",
    "        \n",
    "#         fluxes_error.append(flux_error)\n",
    "       \n",
    "        \n",
    "\n",
    "## Average of errors\n",
    "# fluxes_unc[i] = np.average(np.abs(err), axis=0)\n",
    "\n",
    "## Minimum of errors\n",
    "# fluxes_unc[i] = np.min(np.abs(err), axis=0)\n",
    "\n",
    "## Maximum of errors\n",
    "# fluxes_unc[i] = np.max(np.abs(err), axis=0)\n",
    "# print(fluxes_unc[i])      "
   ]
  },
  {
   "cell_type": "code",
   "execution_count": null,
   "id": "50385384-c290-48a4-a6c2-d03c33603a08",
   "metadata": {},
   "outputs": [],
   "source": []
  },
  {
   "cell_type": "code",
   "execution_count": null,
   "id": "50977778-b8c1-4091-bc59-aa2668de3310",
   "metadata": {},
   "outputs": [],
   "source": []
  },
  {
   "cell_type": "code",
   "execution_count": null,
   "id": "1fbf9485-4e70-4728-953b-2941803dc9b6",
   "metadata": {},
   "outputs": [],
   "source": [
    "catalog_with_flux_history"
   ]
  },
  {
   "cell_type": "code",
   "execution_count": null,
   "id": "5ddd2300-c540-486d-8556-01442ee743dc",
   "metadata": {},
   "outputs": [],
   "source": []
  },
  {
   "cell_type": "code",
   "execution_count": null,
   "id": "e225ddfa-97ee-4672-80b8-85d02584dd2f",
   "metadata": {},
   "outputs": [],
   "source": []
  },
  {
   "cell_type": "code",
   "execution_count": null,
   "id": "c0d682bc-c5ea-4513-a6fa-83900c1cae96",
   "metadata": {},
   "outputs": [],
   "source": []
  },
  {
   "cell_type": "code",
   "execution_count": null,
   "id": "6ad9268a-4a8e-4199-a2a0-b6b63527472a",
   "metadata": {},
   "outputs": [],
   "source": []
  },
  {
   "cell_type": "code",
   "execution_count": null,
   "id": "bf5d49f5-e7a7-461f-b5df-f86383302b60",
   "metadata": {},
   "outputs": [],
   "source": []
  },
  {
   "cell_type": "code",
   "execution_count": null,
   "id": "dc90c752-86db-4e72-9a42-c76cb1c0ead8",
   "metadata": {},
   "outputs": [],
   "source": []
  },
  {
   "cell_type": "code",
   "execution_count": null,
   "id": "e83e85a7-bc85-43e4-b22e-0b42d7797a2d",
   "metadata": {},
   "outputs": [],
   "source": []
  },
  {
   "cell_type": "markdown",
   "id": "d16e6436-208b-4a58-8424-baeb690eae1f",
   "metadata": {},
   "source": [
    "## For different Blazar Classes (Synchrotron for now)"
   ]
  },
  {
   "cell_type": "code",
   "execution_count": null,
   "id": "6d5992cb-d1c2-4a2e-a9ff-e81caab04064",
   "metadata": {},
   "outputs": [],
   "source": [
    "dataLSP = catalog_data[catalog_data['SED_class'] == 'LSP']\n",
    "dataISP = catalog_data[catalog_data['SED_class'] == 'ISP']\n",
    "dataHSP = catalog_data[catalog_data['SED_class'] == 'HSP']"
   ]
  },
  {
   "cell_type": "code",
   "execution_count": null,
   "id": "f8181330-aea6-4ba7-b26b-e1d7de5a2f42",
   "metadata": {},
   "outputs": [],
   "source": [
    "dataLSP"
   ]
  },
  {
   "cell_type": "code",
   "execution_count": null,
   "id": "ae9d1791-4047-43d8-9c3c-7e5be4d9c2b8",
   "metadata": {},
   "outputs": [],
   "source": [
    "print('# of sources in:')\n",
    "\n",
    "print('\\ndataLSP:', len(dataLSP))\n",
    "print('dataISP:', len(dataISP))\n",
    "print('dataHSP:', len(dataHSP))\n",
    "\n",
    "print('\\ndataLSP + dataISP + dataHSP:', len(dataLSP) + len(dataISP) + len(dataHSP))\n",
    "print('catalog_data:', len(catalog_data))\n",
    "print('are they equal?', len(dataLSP) + len(dataISP) + len(dataHSP) == len(catalog_data))\n",
    "\n",
    "print('\\n--> difference between tables:', len(catalog_data) - (len(dataLSP)+len(dataISP)+len(dataHSP)), 'SOURCES DO NOT HAVE A SED_class REGISTERED')"
   ]
  },
  {
   "cell_type": "code",
   "execution_count": null,
   "id": "9e581dd0-d9ad-4d32-b95a-93293ef3fd4c",
   "metadata": {},
   "outputs": [],
   "source": [
    "# ## Saving the dataframes as .csv tables\n",
    "\n",
    "# LSP_pandas = dataLSP.to_pandas()\n",
    "# ISP_pandas = dataISP.to_pandas()\n",
    "# HSP_pandas = dataHSP.to_pandas()\n",
    "# whole_data_pandas = catalog_data.to_pandas()\n",
    "\n",
    "# LSP_pandas.to_csv('LSP_data.csv', index=False)\n",
    "# ISP_pandas.to_csv('ISP_data.csv', index=False)\n",
    "# HSP_pandas.to_csv('HSP_data.csv', index=False)\n",
    "# whole_data_pandas.to_csv('catalog_data.csv', index=False)"
   ]
  }
 ],
 "metadata": {
  "kernelspec": {
   "display_name": "Python 3 (ipykernel)",
   "language": "python",
   "name": "python3"
  },
  "language_info": {
   "codemirror_mode": {
    "name": "ipython",
    "version": 3
   },
   "file_extension": ".py",
   "mimetype": "text/x-python",
   "name": "python",
   "nbconvert_exporter": "python",
   "pygments_lexer": "ipython3",
   "version": "3.9.7"
  }
 },
 "nbformat": 4,
 "nbformat_minor": 5
}
